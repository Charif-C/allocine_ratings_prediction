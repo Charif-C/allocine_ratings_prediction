{
 "cells": [
  {
   "cell_type": "code",
   "execution_count": 2,
   "metadata": {},
   "outputs": [],
   "source": [
    "import warnings\n",
    "warnings.filterwarnings('ignore')"
   ]
  },
  {
   "cell_type": "code",
   "execution_count": 3,
   "metadata": {},
   "outputs": [],
   "source": [
    "import pandas as pd\n",
    "import numpy as np"
   ]
  },
  {
   "cell_type": "code",
   "execution_count": 4,
   "metadata": {},
   "outputs": [
    {
     "data": {
      "text/html": [
       "<div>\n",
       "<style scoped>\n",
       "    .dataframe tbody tr th:only-of-type {\n",
       "        vertical-align: middle;\n",
       "    }\n",
       "\n",
       "    .dataframe tbody tr th {\n",
       "        vertical-align: top;\n",
       "    }\n",
       "\n",
       "    .dataframe thead th {\n",
       "        text-align: right;\n",
       "    }\n",
       "</style>\n",
       "<table border=\"1\" class=\"dataframe\">\n",
       "  <thead>\n",
       "    <tr style=\"text-align: right;\">\n",
       "      <th></th>\n",
       "      <th>Unnamed: 0</th>\n",
       "      <th>actors</th>\n",
       "      <th>date</th>\n",
       "      <th>movie</th>\n",
       "      <th>press_rating</th>\n",
       "      <th>producer</th>\n",
       "      <th>spectators_rating</th>\n",
       "    </tr>\n",
       "  </thead>\n",
       "  <tbody>\n",
       "    <tr>\n",
       "      <th>0</th>\n",
       "      <td>0</td>\n",
       "      <td>Rainn Wilson ; Ellen Page ; Liv Tyler ;</td>\n",
       "      <td>1 décembre 2011</td>\n",
       "      <td>Super</td>\n",
       "      <td>NaN</td>\n",
       "      <td>James Gunn (II)</td>\n",
       "      <td>3,5</td>\n",
       "    </tr>\n",
       "    <tr>\n",
       "      <th>1</th>\n",
       "      <td>1</td>\n",
       "      <td>Jean-Paul Rouve ; Isabelle Nanty ; Claire Nade...</td>\n",
       "      <td>1 juillet 2011</td>\n",
       "      <td>Les Tuche</td>\n",
       "      <td>2,3</td>\n",
       "      <td>Olivier Baroux</td>\n",
       "      <td>2,6</td>\n",
       "    </tr>\n",
       "    <tr>\n",
       "      <th>2</th>\n",
       "      <td>2</td>\n",
       "      <td>Leonardo DiCaprio ; Marion Cotillard ; Ellen P...</td>\n",
       "      <td>21 juillet 2010</td>\n",
       "      <td>Inception</td>\n",
       "      <td>4,1</td>\n",
       "      <td>Christopher Nolan</td>\n",
       "      <td>4,4</td>\n",
       "    </tr>\n",
       "    <tr>\n",
       "      <th>3</th>\n",
       "      <td>3</td>\n",
       "      <td>Bruce Willis ; Morgan Freeman ; Helen Mirren ;</td>\n",
       "      <td>17 novembre 2010</td>\n",
       "      <td>Red</td>\n",
       "      <td>2,8</td>\n",
       "      <td>Robert Schwentke</td>\n",
       "      <td>3,5</td>\n",
       "    </tr>\n",
       "    <tr>\n",
       "      <th>4</th>\n",
       "      <td>4</td>\n",
       "      <td>François Cluzet ; Marion Cotillard ; Benoît Ma...</td>\n",
       "      <td>20 octobre 2010</td>\n",
       "      <td>Les petits mouchoirs</td>\n",
       "      <td>2,9</td>\n",
       "      <td>Guillaume Canet</td>\n",
       "      <td>3,6</td>\n",
       "    </tr>\n",
       "  </tbody>\n",
       "</table>\n",
       "</div>"
      ],
      "text/plain": [
       "   Unnamed: 0                                             actors  \\\n",
       "0           0           Rainn Wilson ; Ellen Page ; Liv Tyler ;    \n",
       "1           1  Jean-Paul Rouve ; Isabelle Nanty ; Claire Nade...   \n",
       "2           2  Leonardo DiCaprio ; Marion Cotillard ; Ellen P...   \n",
       "3           3    Bruce Willis ; Morgan Freeman ; Helen Mirren ;    \n",
       "4           4  François Cluzet ; Marion Cotillard ; Benoît Ma...   \n",
       "\n",
       "               date                 movie press_rating           producer  \\\n",
       "0   1 décembre 2011                 Super          NaN    James Gunn (II)   \n",
       "1    1 juillet 2011             Les Tuche          2,3     Olivier Baroux   \n",
       "2   21 juillet 2010             Inception          4,1  Christopher Nolan   \n",
       "3  17 novembre 2010                   Red          2,8   Robert Schwentke   \n",
       "4   20 octobre 2010  Les petits mouchoirs          2,9    Guillaume Canet   \n",
       "\n",
       "  spectators_rating  \n",
       "0               3,5  \n",
       "1               2,6  \n",
       "2               4,4  \n",
       "3               3,5  \n",
       "4               3,6  "
      ]
     },
     "execution_count": 4,
     "metadata": {},
     "output_type": "execute_result"
    }
   ],
   "source": [
    "df = pd.read_csv('scrapperv6.csv')\n",
    "df.head()"
   ]
  },
  {
   "cell_type": "code",
   "execution_count": 5,
   "metadata": {},
   "outputs": [
    {
     "data": {
      "text/html": [
       "<div>\n",
       "<style scoped>\n",
       "    .dataframe tbody tr th:only-of-type {\n",
       "        vertical-align: middle;\n",
       "    }\n",
       "\n",
       "    .dataframe tbody tr th {\n",
       "        vertical-align: top;\n",
       "    }\n",
       "\n",
       "    .dataframe thead th {\n",
       "        text-align: right;\n",
       "    }\n",
       "</style>\n",
       "<table border=\"1\" class=\"dataframe\">\n",
       "  <thead>\n",
       "    <tr style=\"text-align: right;\">\n",
       "      <th></th>\n",
       "      <th>actors</th>\n",
       "      <th>date</th>\n",
       "      <th>movie</th>\n",
       "      <th>press_rating</th>\n",
       "      <th>producer</th>\n",
       "      <th>spectators_rating</th>\n",
       "    </tr>\n",
       "  </thead>\n",
       "  <tbody>\n",
       "    <tr>\n",
       "      <th>0</th>\n",
       "      <td>Rainn Wilson ; Ellen Page ; Liv Tyler ;</td>\n",
       "      <td>1 décembre 2011</td>\n",
       "      <td>Super</td>\n",
       "      <td>NaN</td>\n",
       "      <td>James Gunn (II)</td>\n",
       "      <td>3,5</td>\n",
       "    </tr>\n",
       "    <tr>\n",
       "      <th>1</th>\n",
       "      <td>Jean-Paul Rouve ; Isabelle Nanty ; Claire Nade...</td>\n",
       "      <td>1 juillet 2011</td>\n",
       "      <td>Les Tuche</td>\n",
       "      <td>2,3</td>\n",
       "      <td>Olivier Baroux</td>\n",
       "      <td>2,6</td>\n",
       "    </tr>\n",
       "    <tr>\n",
       "      <th>2</th>\n",
       "      <td>Leonardo DiCaprio ; Marion Cotillard ; Ellen P...</td>\n",
       "      <td>21 juillet 2010</td>\n",
       "      <td>Inception</td>\n",
       "      <td>4,1</td>\n",
       "      <td>Christopher Nolan</td>\n",
       "      <td>4,4</td>\n",
       "    </tr>\n",
       "    <tr>\n",
       "      <th>3</th>\n",
       "      <td>Bruce Willis ; Morgan Freeman ; Helen Mirren ;</td>\n",
       "      <td>17 novembre 2010</td>\n",
       "      <td>Red</td>\n",
       "      <td>2,8</td>\n",
       "      <td>Robert Schwentke</td>\n",
       "      <td>3,5</td>\n",
       "    </tr>\n",
       "    <tr>\n",
       "      <th>4</th>\n",
       "      <td>François Cluzet ; Marion Cotillard ; Benoît Ma...</td>\n",
       "      <td>20 octobre 2010</td>\n",
       "      <td>Les petits mouchoirs</td>\n",
       "      <td>2,9</td>\n",
       "      <td>Guillaume Canet</td>\n",
       "      <td>3,6</td>\n",
       "    </tr>\n",
       "  </tbody>\n",
       "</table>\n",
       "</div>"
      ],
      "text/plain": [
       "                                              actors              date  \\\n",
       "0           Rainn Wilson ; Ellen Page ; Liv Tyler ;    1 décembre 2011   \n",
       "1  Jean-Paul Rouve ; Isabelle Nanty ; Claire Nade...    1 juillet 2011   \n",
       "2  Leonardo DiCaprio ; Marion Cotillard ; Ellen P...   21 juillet 2010   \n",
       "3    Bruce Willis ; Morgan Freeman ; Helen Mirren ;   17 novembre 2010   \n",
       "4  François Cluzet ; Marion Cotillard ; Benoît Ma...   20 octobre 2010   \n",
       "\n",
       "                  movie press_rating           producer spectators_rating  \n",
       "0                 Super          NaN    James Gunn (II)               3,5  \n",
       "1             Les Tuche          2,3     Olivier Baroux               2,6  \n",
       "2             Inception          4,1  Christopher Nolan               4,4  \n",
       "3                   Red          2,8   Robert Schwentke               3,5  \n",
       "4  Les petits mouchoirs          2,9    Guillaume Canet               3,6  "
      ]
     },
     "execution_count": 5,
     "metadata": {},
     "output_type": "execute_result"
    }
   ],
   "source": [
    "df = df.drop(['Unnamed: 0'], axis=1)\n",
    "df.head()"
   ]
  },
  {
   "cell_type": "markdown",
   "metadata": {},
   "source": [
    "### Notes\n",
    "\n",
    "Columns analysis:\n",
    "- movie (= name) not relevant\n",
    "- date ?\n",
    "- output is press_rating or spectators_rating\n",
    "\n",
    "To do:\n",
    "- Missing values\n",
    "- Actors and Producer columns transformation (one column by actor/producer with 0/1)"
   ]
  },
  {
   "cell_type": "code",
   "execution_count": 6,
   "metadata": {},
   "outputs": [
    {
     "data": {
      "text/html": [
       "<div>\n",
       "<style scoped>\n",
       "    .dataframe tbody tr th:only-of-type {\n",
       "        vertical-align: middle;\n",
       "    }\n",
       "\n",
       "    .dataframe tbody tr th {\n",
       "        vertical-align: top;\n",
       "    }\n",
       "\n",
       "    .dataframe thead th {\n",
       "        text-align: right;\n",
       "    }\n",
       "</style>\n",
       "<table border=\"1\" class=\"dataframe\">\n",
       "  <thead>\n",
       "    <tr style=\"text-align: right;\">\n",
       "      <th></th>\n",
       "      <th>actors</th>\n",
       "      <th>date</th>\n",
       "      <th>movie</th>\n",
       "      <th>press_rating</th>\n",
       "      <th>producer</th>\n",
       "      <th>spectators_rating</th>\n",
       "    </tr>\n",
       "  </thead>\n",
       "  <tbody>\n",
       "    <tr>\n",
       "      <th>count</th>\n",
       "      <td>407</td>\n",
       "      <td>409</td>\n",
       "      <td>409</td>\n",
       "      <td>377</td>\n",
       "      <td>409</td>\n",
       "      <td>408</td>\n",
       "    </tr>\n",
       "    <tr>\n",
       "      <th>unique</th>\n",
       "      <td>401</td>\n",
       "      <td>288</td>\n",
       "      <td>409</td>\n",
       "      <td>32</td>\n",
       "      <td>334</td>\n",
       "      <td>29</td>\n",
       "    </tr>\n",
       "    <tr>\n",
       "      <th>top</th>\n",
       "      <td>Jennifer Lawrence ; Josh Hutcherson ; Liam Hem...</td>\n",
       "      <td>8 mars 2017</td>\n",
       "      <td>Fast &amp; Furious 7</td>\n",
       "      <td>3,0</td>\n",
       "      <td>Denis Villeneuve</td>\n",
       "      <td>4,1</td>\n",
       "    </tr>\n",
       "    <tr>\n",
       "      <th>freq</th>\n",
       "      <td>3</td>\n",
       "      <td>4</td>\n",
       "      <td>1</td>\n",
       "      <td>28</td>\n",
       "      <td>5</td>\n",
       "      <td>38</td>\n",
       "    </tr>\n",
       "  </tbody>\n",
       "</table>\n",
       "</div>"
      ],
      "text/plain": [
       "                                                   actors         date  \\\n",
       "count                                                 407          409   \n",
       "unique                                                401          288   \n",
       "top     Jennifer Lawrence ; Josh Hutcherson ; Liam Hem...  8 mars 2017   \n",
       "freq                                                    3            4   \n",
       "\n",
       "                   movie press_rating          producer spectators_rating  \n",
       "count                409          377               409               408  \n",
       "unique               409           32               334                29  \n",
       "top     Fast & Furious 7          3,0  Denis Villeneuve               4,1  \n",
       "freq                   1           28                 5                38  "
      ]
     },
     "execution_count": 6,
     "metadata": {},
     "output_type": "execute_result"
    }
   ],
   "source": [
    "df.describe()"
   ]
  },
  {
   "cell_type": "code",
   "execution_count": 32,
   "metadata": {},
   "outputs": [],
   "source": [
    "def get_features(df, column):\n",
    "    features = []\n",
    "    for i in range(len(df)):\n",
    "        line_features = str(df[column][i]).split(' ; ')\n",
    "        for feature in line_features:\n",
    "            if feature not in features:\n",
    "                features.append(feature)\n",
    "    if '' in features:\n",
    "        features.remove('')\n",
    "    return features"
   ]
  },
  {
   "cell_type": "code",
   "execution_count": 33,
   "metadata": {},
   "outputs": [],
   "source": [
    "actors = get_features(df, 'actors') # 827 actors\n",
    "producers = get_features(df, 'producer') # 334 producers"
   ]
  },
  {
   "cell_type": "code",
   "execution_count": 48,
   "metadata": {},
   "outputs": [
    {
     "data": {
      "text/plain": [
       "True"
      ]
     },
     "execution_count": 48,
     "metadata": {},
     "output_type": "execute_result"
    }
   ],
   "source": [
    "\"Liv Tyler\" in df.loc[0]['actors']"
   ]
  },
  {
   "cell_type": "code",
   "execution_count": 49,
   "metadata": {},
   "outputs": [],
   "source": [
    "def create_binary_columns(df, l, column): # l is the list of features\n",
    "    for i in range(len(df)):\n",
    "        for elt in l:\n",
    "            if elt in df.loc[i][column]:\n",
    "                df[elt][i] = 1\n",
    "            else:\n",
    "                df[elt][i] = 0\n",
    "        if i%20 == 0:\n",
    "            print df[i]\n",
    "    return df"
   ]
  },
  {
   "cell_type": "code",
   "execution_count": null,
   "metadata": {},
   "outputs": [],
   "source": [
    "test = create_binary_columns(df, actors, 'actors')"
   ]
  },
  {
   "cell_type": "code",
   "execution_count": null,
   "metadata": {},
   "outputs": [],
   "source": []
  }
 ],
 "metadata": {
  "kernelspec": {
   "display_name": "Python [conda env:Anaconda3]",
   "language": "python",
   "name": "conda-env-Anaconda3-py"
  },
  "language_info": {
   "codemirror_mode": {
    "name": "ipython",
    "version": 3
   },
   "file_extension": ".py",
   "mimetype": "text/x-python",
   "name": "python",
   "nbconvert_exporter": "python",
   "pygments_lexer": "ipython3",
   "version": "3.6.4"
  }
 },
 "nbformat": 4,
 "nbformat_minor": 2
}
